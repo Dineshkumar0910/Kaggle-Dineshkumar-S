{
 "cells": [
  {
   "cell_type": "code",
   "execution_count": 1,
   "id": "ac6dc02b",
   "metadata": {
    "_cell_guid": "b1076dfc-b9ad-4769-8c92-a6c4dae69d19",
    "_uuid": "8f2839f25d086af736a60e9eeb907d3b93b6e0e5",
    "execution": {
     "iopub.execute_input": "2023-03-18T09:15:35.861307Z",
     "iopub.status.busy": "2023-03-18T09:15:35.860356Z",
     "iopub.status.idle": "2023-03-18T09:15:35.878438Z",
     "shell.execute_reply": "2023-03-18T09:15:35.877547Z"
    },
    "papermill": {
     "duration": 0.03116,
     "end_time": "2023-03-18T09:15:35.881420",
     "exception": false,
     "start_time": "2023-03-18T09:15:35.850260",
     "status": "completed"
    },
    "tags": []
   },
   "outputs": [
    {
     "name": "stdout",
     "output_type": "stream",
     "text": [
      "/kaggle/input/hitters/Hitters.csv\n"
     ]
    }
   ],
   "source": [
    "# This Python 3 environment comes with many helpful analytics libraries installed\n",
    "# It is defined by the kaggle/python Docker image: https://github.com/kaggle/docker-python\n",
    "# For example, here's several helpful packages to load\n",
    "\n",
    "import numpy as np # linear algebra\n",
    "import pandas as pd # data processing, CSV file I/O (e.g. pd.read_csv)\n",
    "\n",
    "# Input data files are available in the read-only \"../input/\" directory\n",
    "# For example, running this (by clicking run or pressing Shift+Enter) will list all files under the input directory\n",
    "\n",
    "import os\n",
    "for dirname, _, filenames in os.walk('/kaggle/input'):\n",
    "    for filename in filenames:\n",
    "        print(os.path.join(dirname, filename))\n",
    "\n",
    "# You can write up to 20GB to the current directory (/kaggle/working/) that gets preserved as output when you create a version using \"Save & Run All\" \n",
    "# You can also write temporary files to /kaggle/temp/, but they won't be saved outside of the current session"
   ]
  },
  {
   "cell_type": "code",
   "execution_count": 2,
   "id": "fbaea5f4",
   "metadata": {
    "execution": {
     "iopub.execute_input": "2023-03-18T09:15:35.897367Z",
     "iopub.status.busy": "2023-03-18T09:15:35.896769Z",
     "iopub.status.idle": "2023-03-18T09:15:38.822548Z",
     "shell.execute_reply": "2023-03-18T09:15:38.821579Z"
    },
    "papermill": {
     "duration": 2.936215,
     "end_time": "2023-03-18T09:15:38.825112",
     "exception": false,
     "start_time": "2023-03-18T09:15:35.888897",
     "status": "completed"
    },
    "tags": []
   },
   "outputs": [],
   "source": [
    "from warnings import filterwarnings\n",
    "filterwarnings(\"ignore\")\n",
    "import pandas as pd\n",
    "import numpy as np\n",
    "import matplotlib.pyplot as plt\n",
    "import seaborn as sns\n",
    "import statsmodels.api as sm\n",
    "import statsmodels.formula.api as smf\n",
    "from sklearn.linear_model import LinearRegression\n",
    "from sklearn.metrics import mean_squared_error,r2_score\n",
    "from sklearn.model_selection import train_test_split,cross_val_score,cross_val_predict,ShuffleSplit,GridSearchCV\n",
    "from sklearn.decomposition import PCA\n",
    "from sklearn.tree import DecisionTreeRegressor,DecisionTreeClassifier\n",
    "from sklearn.preprocessing import scale\n",
    "from sklearn import model_selection\n",
    "from sklearn.neighbors import KNeighborsRegressor\n",
    "from sklearn.ensemble import BaggingRegressor,RandomForestRegressor,BaseEnsemble,GradientBoostingRegressor\n",
    "import xgboost \n",
    "from xgboost import XGBRegressor\n",
    "from sklearn.svm import SVR"
   ]
  },
  {
   "cell_type": "markdown",
   "id": "58d44cc5",
   "metadata": {
    "execution": {
     "iopub.execute_input": "2023-03-18T08:29:16.858494Z",
     "iopub.status.busy": "2023-03-18T08:29:16.858154Z",
     "iopub.status.idle": "2023-03-18T08:29:29.443700Z",
     "shell.execute_reply": "2023-03-18T08:29:29.442129Z",
     "shell.execute_reply.started": "2023-03-18T08:29:16.858463Z"
    },
    "papermill": {
     "duration": 0.006082,
     "end_time": "2023-03-18T09:15:38.838141",
     "exception": false,
     "start_time": "2023-03-18T09:15:38.832059",
     "status": "completed"
    },
    "tags": []
   },
   "source": [
    "pip install skompiler"
   ]
  },
  {
   "cell_type": "code",
   "execution_count": 3,
   "id": "0ad951a3",
   "metadata": {
    "execution": {
     "iopub.execute_input": "2023-03-18T09:15:38.852279Z",
     "iopub.status.busy": "2023-03-18T09:15:38.851938Z",
     "iopub.status.idle": "2023-03-18T09:16:56.431325Z",
     "shell.execute_reply": "2023-03-18T09:16:56.429861Z"
    },
    "papermill": {
     "duration": 77.590278,
     "end_time": "2023-03-18T09:16:56.434742",
     "exception": false,
     "start_time": "2023-03-18T09:15:38.844464",
     "status": "completed"
    },
    "tags": []
   },
   "outputs": [
    {
     "name": "stdout",
     "output_type": "stream",
     "text": [
      "Collecting package metadata (current_repodata.json): - \b\b\\ \b\b| \b\b/ \b\b- \b\b\\ \b\b| \b\b/ \b\b- \b\b\\ \b\b| \b\b/ \b\b- \b\b\\ \b\b| \b\b/ \b\b- \b\b\\ \b\b| \b\b/ \b\b- \b\b\\ \b\b| \b\b/ \b\b- \b\b\\ \b\b| \b\b/ \b\b- \b\b\\ \b\b| \b\b/ \b\b- \b\b\\ \b\b| \b\b/ \b\b- \b\b\\ \b\b| \b\b/ \b\b- \b\b\\ \b\b| \b\b/ \b\b- \b\b\\ \b\b| \b\b/ \b\b- \b\b\\ \b\b| \b\b/ \b\b- \b\b\\ \b\b| \b\b/ \b\b- \b\b\\ \b\b| \b\b/ \b\b- \b\b\\ \b\b| \b\b/ \b\b- \b\b\\ \b\b| \b\b/ \b\b- \b\b\\ \b\b| \b\b/ \b\b- \b\b\\ \b\b| \b\b/ \b\b- \b\b\\ \b\b| \b\b/ \b\b- \b\b\\ \b\b| \b\b/ \b\b- \b\b\\ \b\b| \b\b/ \b\b- \b\b\\ \b\b| \b\b/ \b\b- \b\b\\ \b\b| \b\b/ \b\b- \b\b\\ \b\b| \b\b/ \b\b- \b\b\\ \b\b| \b\b/ \b\b- \b\b\\ \b\b| \b\b/ \b\b- \b\b\\ \b\b| \b\b/ \b\b- \b\b\\ \b\b| \b\b/ \b\b- \b\b\\ \b\b| \b\b/ \b\b- \b\b\\ \b\b| \b\b/ \b\b- \b\b\\ \b\b| \b\b/ \b\b- \b\b\\ \b\b| \b\b/ \b\b- \b\b\\ \b\b| \b\b/ \b\b- \b\b\\ \b\b| \b\b/ \b\b- \b\b\\ \b\b| \b\b/ \b\b- \b\b\\ \b\b| \b\b/ \b\b- \b\b\\ \b\b| \b\b/ \b\b- \b\b\\ \b\b| \b\b/ \b\b- \b\b\\ \b\b| \b\b/ \b\b- \b\b\\ \b\b| \b\b/ \b\b- \b\b\\ \b\b| \b\b/ \b\b- \b\b\\ \b\b| \b\b/ \b\b- \b\b\\ \b\b| \b\b/ \b\b- \b\b\\ \b\b| \b\b/ \b\b- \b\b\\ \b\b| \b\b/ \b\b- \b\b\\ \b\b| \b\b/ \b\b- \b\b\\ \b\b| \b\b/ \b\b- \b\b\\ \b\b| \b\b/ \b\b- \b\bdone\r\n",
      "Solving environment: | \b\b/ \b\b- \b\b\\ \b\b| \b\b/ \b\b- \b\b\\ \b\b| \b\b/ \b\b- \b\b\\ \b\b| \b\b/ \b\b- \b\b\\ \b\b| \b\b/ \b\b- \b\b\\ \b\b| \b\b/ \b\b- \b\b\\ \b\b| \b\b/ \b\b- \b\b\\ \b\b| \b\b/ \b\b- \b\b\\ \b\b| \b\b/ \b\b- \b\b\\ \b\b| \b\b/ \b\b- \b\b\\ \b\b| \b\b/ \b\b- \b\b\\ \b\b| \b\b/ \b\b- \b\b\\ \b\b| \b\b/ \b\b- \b\b\\ \b\b| \b\b/ \b\b- \b\b\\ \b\b| \b\b/ \b\b- \b\b\\ \b\b| \b\b/ \b\b- \b\b\\ \b\b| \b\b/ \b\b- \b\b\\ \b\b| \b\b/ \b\b- \b\b\\ \b\b| \b\b/ \b\b- \b\b\\ \b\b| \b\b/ \b\b- \b\b\\ \b\b| \b\b/ \b\b- \b\b\\ \b\b| \b\b/ \b\b- \b\b\\ \b\b| \b\b/ \b\b- \b\b\\ \b\b| \b\b/ \b\b- \b\b\\ \b\b| \b\b/ \b\b- \b\b\\ \b\b| \b\b/ \b\b- \b\b\\ \b\b| \b\b/ \b\b- \b\b\\ \b\b| \b\b/ \b\b- \b\b\\ \b\b| \b\b/ \b\b- \b\b\\ \b\b| \b\b/ \b\b- \b\b\\ \b\b| \b\b/ \b\b- \b\b\\ \b\b| \b\b/ \b\b- \b\b\\ \b\b| \b\b/ \b\b- \b\b\\ \b\bdone\r\n",
      "\r\n",
      "\r\n",
      "==> WARNING: A newer version of conda exists. <==\r\n",
      "  current version: 22.9.0\r\n",
      "  latest version: 23.1.0\r\n",
      "\r\n",
      "Please update conda by running\r\n",
      "\r\n",
      "    $ conda update -n base -c conda-forge conda\r\n",
      "\r\n",
      "\r\n",
      "\r\n",
      "## Package Plan ##\r\n",
      "\r\n",
      "  environment location: /opt/conda\r\n",
      "\r\n",
      "  added / updated specs:\r\n",
      "    - lightgbm\r\n",
      "\r\n",
      "\r\n",
      "The following packages will be downloaded:\r\n",
      "\r\n",
      "    package                    |            build\r\n",
      "    ---------------------------|-----------------\r\n",
      "    joblib-1.2.0               |     pyhd8ed1ab_0         205 KB  conda-forge\r\n",
      "    lightgbm-3.1.1             |   py37hcd2ae1e_0         1.6 MB  conda-forge\r\n",
      "    scikit-learn-1.0.2         |   py37hf9e9bfc_0         7.8 MB  conda-forge\r\n",
      "    threadpoolctl-3.1.0        |     pyh8a188c0_0          18 KB  conda-forge\r\n",
      "    ------------------------------------------------------------\r\n",
      "                                           Total:         9.6 MB\r\n",
      "\r\n",
      "The following NEW packages will be INSTALLED:\r\n",
      "\r\n",
      "  joblib             conda-forge/noarch::joblib-1.2.0-pyhd8ed1ab_0 None\r\n",
      "  lightgbm           conda-forge/linux-64::lightgbm-3.1.1-py37hcd2ae1e_0 None\r\n",
      "  scikit-learn       conda-forge/linux-64::scikit-learn-1.0.2-py37hf9e9bfc_0 None\r\n",
      "  threadpoolctl      conda-forge/noarch::threadpoolctl-3.1.0-pyh8a188c0_0 None\r\n",
      "\r\n",
      "\r\n",
      "\r\n",
      "Downloading and Extracting Packages\r\n",
      "threadpoolctl-3.1.0  | 18 KB     | ##################################### | 100% \r\n",
      "scikit-learn-1.0.2   | 7.8 MB    | ##################################### | 100% \r\n",
      "lightgbm-3.1.1       | 1.6 MB    | ##################################### | 100% \r\n",
      "joblib-1.2.0         | 205 KB    | ##################################### | 100% \r\n",
      "Preparing transaction: / \b\bdone\r\n",
      "Verifying transaction: \\ \b\b| \b\b/ \b\b- \b\b\\ \b\b| \b\b/ \b\b- \b\b\\ \b\b| \b\b/ \b\b- \b\b\\ \b\b| \b\b/ \b\b- \b\b\\ \b\b| \b\bdone\r\n",
      "Executing transaction: - \b\b\\ \b\b| \b\b/ \b\b- \b\b\\ \b\b| \b\b/ \b\b- \b\b\\ \b\b| \b\b/ \b\b- \b\b\\ \b\b| \b\b/ \b\b- \b\b\\ \b\b| \b\b/ \b\b- \b\b\\ \b\b| \b\b/ \b\b- \b\b\\ \b\b| \b\b/ \b\b- \b\b\\ \b\b| \b\b/ \b\b- \b\b\\ \b\b| \b\b/ \b\b- \b\b\\ \b\b| \b\b/ \b\b- \b\b\\ \b\b| \b\b/ \b\b- \b\b\\ \b\b| \b\b/ \b\b- \b\b\\ \b\b| \b\b/ \b\b- \b\b\\ \b\b| \b\b/ \b\b- \b\b\\ \b\b| \b\b/ \b\b- \b\b\\ \b\b| \b\b/ \b\b- \b\b\\ \b\b| \b\b/ \b\b- \b\b\\ \b\b| \b\b/ \b\b- \b\b\\ \b\b| \b\b/ \b\b- \b\b\\ \b\b| \b\b/ \b\b- \b\b\\ \b\bdone\r\n",
      "Retrieving notices: ...working... done\r\n",
      "\n",
      "Note: you may need to restart the kernel to use updated packages.\n"
     ]
    }
   ],
   "source": [
    "conda install -c conda-forge lightgbm"
   ]
  },
  {
   "cell_type": "code",
   "execution_count": 4,
   "id": "ea2c90eb",
   "metadata": {
    "execution": {
     "iopub.execute_input": "2023-03-18T09:16:56.497816Z",
     "iopub.status.busy": "2023-03-18T09:16:56.497455Z",
     "iopub.status.idle": "2023-03-18T09:16:56.590908Z",
     "shell.execute_reply": "2023-03-18T09:16:56.589886Z"
    },
    "papermill": {
     "duration": 0.127813,
     "end_time": "2023-03-18T09:16:56.593454",
     "exception": false,
     "start_time": "2023-03-18T09:16:56.465641",
     "status": "completed"
    },
    "tags": []
   },
   "outputs": [
    {
     "data": {
      "text/html": [
       "<style type='text/css'>\n",
       ".datatable table.frame { margin-bottom: 0; }\n",
       ".datatable table.frame thead { border-bottom: none; }\n",
       ".datatable table.frame tr.coltypes td {  color: #FFFFFF;  line-height: 6px;  padding: 0 0.5em;}\n",
       ".datatable .bool    { background: #DDDD99; }\n",
       ".datatable .object  { background: #565656; }\n",
       ".datatable .int     { background: #5D9E5D; }\n",
       ".datatable .float   { background: #4040CC; }\n",
       ".datatable .str     { background: #CC4040; }\n",
       ".datatable .time    { background: #40CC40; }\n",
       ".datatable .row_index {  background: var(--jp-border-color3);  border-right: 1px solid var(--jp-border-color0);  color: var(--jp-ui-font-color3);  font-size: 9px;}\n",
       ".datatable .frame tbody td { text-align: left; }\n",
       ".datatable .frame tr.coltypes .row_index {  background: var(--jp-border-color0);}\n",
       ".datatable th:nth-child(2) { padding-left: 12px; }\n",
       ".datatable .hellipsis {  color: var(--jp-cell-editor-border-color);}\n",
       ".datatable .vellipsis {  background: var(--jp-layout-color0);  color: var(--jp-cell-editor-border-color);}\n",
       ".datatable .na {  color: var(--jp-cell-editor-border-color);  font-size: 80%;}\n",
       ".datatable .sp {  opacity: 0.25;}\n",
       ".datatable .footer { font-size: 9px; }\n",
       ".datatable .frame_dimensions {  background: var(--jp-border-color3);  border-top: 1px solid var(--jp-border-color0);  color: var(--jp-ui-font-color3);  display: inline-block;  opacity: 0.6;  padding: 1px 10px 1px 5px;}\n",
       "</style>\n"
      ],
      "text/plain": [
       "<IPython.core.display.HTML object>"
      ]
     },
     "metadata": {},
     "output_type": "display_data"
    }
   ],
   "source": [
    "from lightgbm import LGBMRegressor"
   ]
  },
  {
   "cell_type": "code",
   "execution_count": 5,
   "id": "fd547c2c",
   "metadata": {
    "execution": {
     "iopub.execute_input": "2023-03-18T09:16:56.656817Z",
     "iopub.status.busy": "2023-03-18T09:16:56.656415Z",
     "iopub.status.idle": "2023-03-18T09:17:05.990850Z",
     "shell.execute_reply": "2023-03-18T09:17:05.989733Z"
    },
    "papermill": {
     "duration": 9.368162,
     "end_time": "2023-03-18T09:17:05.993361",
     "exception": false,
     "start_time": "2023-03-18T09:16:56.625199",
     "status": "completed"
    },
    "tags": []
   },
   "outputs": [
    {
     "name": "stdout",
     "output_type": "stream",
     "text": [
      "Requirement already satisfied: catboost in /opt/conda/lib/python3.7/site-packages (1.1.1)\r\n",
      "Requirement already satisfied: six in /opt/conda/lib/python3.7/site-packages (from catboost) (1.16.0)\r\n",
      "Requirement already satisfied: pandas>=0.24.0 in /opt/conda/lib/python3.7/site-packages (from catboost) (1.3.5)\r\n",
      "Requirement already satisfied: matplotlib in /opt/conda/lib/python3.7/site-packages (from catboost) (3.5.3)\r\n",
      "Requirement already satisfied: numpy>=1.16.0 in /opt/conda/lib/python3.7/site-packages (from catboost) (1.21.6)\r\n",
      "Requirement already satisfied: plotly in /opt/conda/lib/python3.7/site-packages (from catboost) (5.13.0)\r\n",
      "Requirement already satisfied: graphviz in /opt/conda/lib/python3.7/site-packages (from catboost) (0.8.4)\r\n",
      "Requirement already satisfied: scipy in /opt/conda/lib/python3.7/site-packages (from catboost) (1.7.3)\r\n",
      "Requirement already satisfied: python-dateutil>=2.7.3 in /opt/conda/lib/python3.7/site-packages (from pandas>=0.24.0->catboost) (2.8.2)\r\n",
      "Requirement already satisfied: pytz>=2017.3 in /opt/conda/lib/python3.7/site-packages (from pandas>=0.24.0->catboost) (2022.7.1)\r\n",
      "Requirement already satisfied: cycler>=0.10 in /opt/conda/lib/python3.7/site-packages (from matplotlib->catboost) (0.11.0)\r\n",
      "Requirement already satisfied: kiwisolver>=1.0.1 in /opt/conda/lib/python3.7/site-packages (from matplotlib->catboost) (1.4.4)\r\n",
      "Requirement already satisfied: pyparsing>=2.2.1 in /opt/conda/lib/python3.7/site-packages (from matplotlib->catboost) (3.0.9)\r\n",
      "Requirement already satisfied: packaging>=20.0 in /opt/conda/lib/python3.7/site-packages (from matplotlib->catboost) (23.0)\r\n",
      "Requirement already satisfied: pillow>=6.2.0 in /opt/conda/lib/python3.7/site-packages (from matplotlib->catboost) (9.4.0)\r\n",
      "Requirement already satisfied: fonttools>=4.22.0 in /opt/conda/lib/python3.7/site-packages (from matplotlib->catboost) (4.38.0)\r\n",
      "Requirement already satisfied: tenacity>=6.2.0 in /opt/conda/lib/python3.7/site-packages (from plotly->catboost) (8.1.0)\r\n",
      "Requirement already satisfied: typing-extensions in /opt/conda/lib/python3.7/site-packages (from kiwisolver>=1.0.1->matplotlib->catboost) (4.4.0)\r\n",
      "\u001b[33mWARNING: Running pip as the 'root' user can result in broken permissions and conflicting behaviour with the system package manager. It is recommended to use a virtual environment instead: https://pip.pypa.io/warnings/venv\u001b[0m\u001b[33m\r\n",
      "\u001b[0mNote: you may need to restart the kernel to use updated packages.\n"
     ]
    }
   ],
   "source": [
    "pip install catboost"
   ]
  },
  {
   "cell_type": "code",
   "execution_count": 6,
   "id": "62498931",
   "metadata": {
    "execution": {
     "iopub.execute_input": "2023-03-18T09:17:06.056055Z",
     "iopub.status.busy": "2023-03-18T09:17:06.055687Z",
     "iopub.status.idle": "2023-03-18T09:17:06.264623Z",
     "shell.execute_reply": "2023-03-18T09:17:06.263057Z"
    },
    "papermill": {
     "duration": 0.242583,
     "end_time": "2023-03-18T09:17:06.267053",
     "exception": false,
     "start_time": "2023-03-18T09:17:06.024470",
     "status": "completed"
    },
    "tags": []
   },
   "outputs": [],
   "source": [
    "from catboost import CatBoostRegressor"
   ]
  },
  {
   "cell_type": "code",
   "execution_count": 7,
   "id": "fff390e9",
   "metadata": {
    "execution": {
     "iopub.execute_input": "2023-03-18T09:17:06.329957Z",
     "iopub.status.busy": "2023-03-18T09:17:06.329594Z",
     "iopub.status.idle": "2023-03-18T09:17:06.375072Z",
     "shell.execute_reply": "2023-03-18T09:17:06.373968Z"
    },
    "papermill": {
     "duration": 0.080252,
     "end_time": "2023-03-18T09:17:06.377474",
     "exception": false,
     "start_time": "2023-03-18T09:17:06.297222",
     "status": "completed"
    },
    "tags": []
   },
   "outputs": [
    {
     "data": {
      "text/html": [
       "<div>\n",
       "<style scoped>\n",
       "    .dataframe tbody tr th:only-of-type {\n",
       "        vertical-align: middle;\n",
       "    }\n",
       "\n",
       "    .dataframe tbody tr th {\n",
       "        vertical-align: top;\n",
       "    }\n",
       "\n",
       "    .dataframe thead th {\n",
       "        text-align: right;\n",
       "    }\n",
       "</style>\n",
       "<table border=\"1\" class=\"dataframe\">\n",
       "  <thead>\n",
       "    <tr style=\"text-align: right;\">\n",
       "      <th></th>\n",
       "      <th>AtBat</th>\n",
       "      <th>Hits</th>\n",
       "      <th>HmRun</th>\n",
       "      <th>Runs</th>\n",
       "      <th>RBI</th>\n",
       "      <th>Walks</th>\n",
       "      <th>Years</th>\n",
       "      <th>CAtBat</th>\n",
       "      <th>CHits</th>\n",
       "      <th>CHmRun</th>\n",
       "      <th>CRuns</th>\n",
       "      <th>CRBI</th>\n",
       "      <th>CWalks</th>\n",
       "      <th>League</th>\n",
       "      <th>Division</th>\n",
       "      <th>PutOuts</th>\n",
       "      <th>Assists</th>\n",
       "      <th>Errors</th>\n",
       "      <th>Salary</th>\n",
       "      <th>NewLeague</th>\n",
       "    </tr>\n",
       "  </thead>\n",
       "  <tbody>\n",
       "    <tr>\n",
       "      <th>0</th>\n",
       "      <td>293</td>\n",
       "      <td>66</td>\n",
       "      <td>1</td>\n",
       "      <td>30</td>\n",
       "      <td>29</td>\n",
       "      <td>14</td>\n",
       "      <td>1</td>\n",
       "      <td>293</td>\n",
       "      <td>66</td>\n",
       "      <td>1</td>\n",
       "      <td>30</td>\n",
       "      <td>29</td>\n",
       "      <td>14</td>\n",
       "      <td>A</td>\n",
       "      <td>E</td>\n",
       "      <td>446</td>\n",
       "      <td>33</td>\n",
       "      <td>20</td>\n",
       "      <td>NaN</td>\n",
       "      <td>A</td>\n",
       "    </tr>\n",
       "    <tr>\n",
       "      <th>1</th>\n",
       "      <td>315</td>\n",
       "      <td>81</td>\n",
       "      <td>7</td>\n",
       "      <td>24</td>\n",
       "      <td>38</td>\n",
       "      <td>39</td>\n",
       "      <td>14</td>\n",
       "      <td>3449</td>\n",
       "      <td>835</td>\n",
       "      <td>69</td>\n",
       "      <td>321</td>\n",
       "      <td>414</td>\n",
       "      <td>375</td>\n",
       "      <td>N</td>\n",
       "      <td>W</td>\n",
       "      <td>632</td>\n",
       "      <td>43</td>\n",
       "      <td>10</td>\n",
       "      <td>475.0</td>\n",
       "      <td>N</td>\n",
       "    </tr>\n",
       "    <tr>\n",
       "      <th>2</th>\n",
       "      <td>479</td>\n",
       "      <td>130</td>\n",
       "      <td>18</td>\n",
       "      <td>66</td>\n",
       "      <td>72</td>\n",
       "      <td>76</td>\n",
       "      <td>3</td>\n",
       "      <td>1624</td>\n",
       "      <td>457</td>\n",
       "      <td>63</td>\n",
       "      <td>224</td>\n",
       "      <td>266</td>\n",
       "      <td>263</td>\n",
       "      <td>A</td>\n",
       "      <td>W</td>\n",
       "      <td>880</td>\n",
       "      <td>82</td>\n",
       "      <td>14</td>\n",
       "      <td>480.0</td>\n",
       "      <td>A</td>\n",
       "    </tr>\n",
       "    <tr>\n",
       "      <th>3</th>\n",
       "      <td>496</td>\n",
       "      <td>141</td>\n",
       "      <td>20</td>\n",
       "      <td>65</td>\n",
       "      <td>78</td>\n",
       "      <td>37</td>\n",
       "      <td>11</td>\n",
       "      <td>5628</td>\n",
       "      <td>1575</td>\n",
       "      <td>225</td>\n",
       "      <td>828</td>\n",
       "      <td>838</td>\n",
       "      <td>354</td>\n",
       "      <td>N</td>\n",
       "      <td>E</td>\n",
       "      <td>200</td>\n",
       "      <td>11</td>\n",
       "      <td>3</td>\n",
       "      <td>500.0</td>\n",
       "      <td>N</td>\n",
       "    </tr>\n",
       "    <tr>\n",
       "      <th>4</th>\n",
       "      <td>321</td>\n",
       "      <td>87</td>\n",
       "      <td>10</td>\n",
       "      <td>39</td>\n",
       "      <td>42</td>\n",
       "      <td>30</td>\n",
       "      <td>2</td>\n",
       "      <td>396</td>\n",
       "      <td>101</td>\n",
       "      <td>12</td>\n",
       "      <td>48</td>\n",
       "      <td>46</td>\n",
       "      <td>33</td>\n",
       "      <td>N</td>\n",
       "      <td>E</td>\n",
       "      <td>805</td>\n",
       "      <td>40</td>\n",
       "      <td>4</td>\n",
       "      <td>91.5</td>\n",
       "      <td>N</td>\n",
       "    </tr>\n",
       "  </tbody>\n",
       "</table>\n",
       "</div>"
      ],
      "text/plain": [
       "   AtBat  Hits  HmRun  Runs  RBI  Walks  Years  CAtBat  CHits  CHmRun  CRuns  \\\n",
       "0    293    66      1    30   29     14      1     293     66       1     30   \n",
       "1    315    81      7    24   38     39     14    3449    835      69    321   \n",
       "2    479   130     18    66   72     76      3    1624    457      63    224   \n",
       "3    496   141     20    65   78     37     11    5628   1575     225    828   \n",
       "4    321    87     10    39   42     30      2     396    101      12     48   \n",
       "\n",
       "   CRBI  CWalks League Division  PutOuts  Assists  Errors  Salary NewLeague  \n",
       "0    29      14      A        E      446       33      20     NaN         A  \n",
       "1   414     375      N        W      632       43      10   475.0         N  \n",
       "2   266     263      A        W      880       82      14   480.0         A  \n",
       "3   838     354      N        E      200       11       3   500.0         N  \n",
       "4    46      33      N        E      805       40       4    91.5         N  "
      ]
     },
     "execution_count": 7,
     "metadata": {},
     "output_type": "execute_result"
    }
   ],
   "source": [
    "#KNN\n",
    "hts = pd.read_csv(\"/kaggle/input/hitters/Hitters.csv\")\n",
    "hts.head()"
   ]
  },
  {
   "cell_type": "code",
   "execution_count": 8,
   "id": "6e230986",
   "metadata": {
    "execution": {
     "iopub.execute_input": "2023-03-18T09:17:06.441352Z",
     "iopub.status.busy": "2023-03-18T09:17:06.441007Z",
     "iopub.status.idle": "2023-03-18T09:17:06.454839Z",
     "shell.execute_reply": "2023-03-18T09:17:06.453291Z"
    },
    "papermill": {
     "duration": 0.048701,
     "end_time": "2023-03-18T09:17:06.457419",
     "exception": false,
     "start_time": "2023-03-18T09:17:06.408718",
     "status": "completed"
    },
    "tags": []
   },
   "outputs": [],
   "source": [
    "hts.dropna(inplace=True)"
   ]
  },
  {
   "cell_type": "code",
   "execution_count": 9,
   "id": "ab1e0f35",
   "metadata": {
    "execution": {
     "iopub.execute_input": "2023-03-18T09:17:06.520651Z",
     "iopub.status.busy": "2023-03-18T09:17:06.520311Z",
     "iopub.status.idle": "2023-03-18T09:17:06.544649Z",
     "shell.execute_reply": "2023-03-18T09:17:06.543356Z"
    },
    "papermill": {
     "duration": 0.058524,
     "end_time": "2023-03-18T09:17:06.546800",
     "exception": false,
     "start_time": "2023-03-18T09:17:06.488276",
     "status": "completed"
    },
    "tags": []
   },
   "outputs": [
    {
     "data": {
      "text/html": [
       "<div>\n",
       "<style scoped>\n",
       "    .dataframe tbody tr th:only-of-type {\n",
       "        vertical-align: middle;\n",
       "    }\n",
       "\n",
       "    .dataframe tbody tr th {\n",
       "        vertical-align: top;\n",
       "    }\n",
       "\n",
       "    .dataframe thead th {\n",
       "        text-align: right;\n",
       "    }\n",
       "</style>\n",
       "<table border=\"1\" class=\"dataframe\">\n",
       "  <thead>\n",
       "    <tr style=\"text-align: right;\">\n",
       "      <th></th>\n",
       "      <th>League_A</th>\n",
       "      <th>League_N</th>\n",
       "      <th>Division_E</th>\n",
       "      <th>Division_W</th>\n",
       "      <th>NewLeague_A</th>\n",
       "      <th>NewLeague_N</th>\n",
       "    </tr>\n",
       "  </thead>\n",
       "  <tbody>\n",
       "    <tr>\n",
       "      <th>1</th>\n",
       "      <td>0</td>\n",
       "      <td>1</td>\n",
       "      <td>0</td>\n",
       "      <td>1</td>\n",
       "      <td>0</td>\n",
       "      <td>1</td>\n",
       "    </tr>\n",
       "    <tr>\n",
       "      <th>2</th>\n",
       "      <td>1</td>\n",
       "      <td>0</td>\n",
       "      <td>0</td>\n",
       "      <td>1</td>\n",
       "      <td>1</td>\n",
       "      <td>0</td>\n",
       "    </tr>\n",
       "    <tr>\n",
       "      <th>3</th>\n",
       "      <td>0</td>\n",
       "      <td>1</td>\n",
       "      <td>1</td>\n",
       "      <td>0</td>\n",
       "      <td>0</td>\n",
       "      <td>1</td>\n",
       "    </tr>\n",
       "    <tr>\n",
       "      <th>4</th>\n",
       "      <td>0</td>\n",
       "      <td>1</td>\n",
       "      <td>1</td>\n",
       "      <td>0</td>\n",
       "      <td>0</td>\n",
       "      <td>1</td>\n",
       "    </tr>\n",
       "    <tr>\n",
       "      <th>5</th>\n",
       "      <td>1</td>\n",
       "      <td>0</td>\n",
       "      <td>0</td>\n",
       "      <td>1</td>\n",
       "      <td>1</td>\n",
       "      <td>0</td>\n",
       "    </tr>\n",
       "  </tbody>\n",
       "</table>\n",
       "</div>"
      ],
      "text/plain": [
       "   League_A  League_N  Division_E  Division_W  NewLeague_A  NewLeague_N\n",
       "1         0         1           0           1            0            1\n",
       "2         1         0           0           1            1            0\n",
       "3         0         1           1           0            0            1\n",
       "4         0         1           1           0            0            1\n",
       "5         1         0           0           1            1            0"
      ]
     },
     "execution_count": 9,
     "metadata": {},
     "output_type": "execute_result"
    }
   ],
   "source": [
    "one_hot_encoded = pd.get_dummies(hts[[\"League\",\"Division\",\"NewLeague\"]])\n",
    "one_hot_encoded.head()"
   ]
  },
  {
   "cell_type": "code",
   "execution_count": 10,
   "id": "c962080e",
   "metadata": {
    "execution": {
     "iopub.execute_input": "2023-03-18T09:17:06.609754Z",
     "iopub.status.busy": "2023-03-18T09:17:06.609383Z",
     "iopub.status.idle": "2023-03-18T09:17:06.616526Z",
     "shell.execute_reply": "2023-03-18T09:17:06.615346Z"
    },
    "papermill": {
     "duration": 0.040989,
     "end_time": "2023-03-18T09:17:06.618784",
     "exception": false,
     "start_time": "2023-03-18T09:17:06.577795",
     "status": "completed"
    },
    "tags": []
   },
   "outputs": [],
   "source": [
    "new_hts = hts.drop([\"League\",\"Division\",\"NewLeague\",\"Salary\"],axis=1).astype(\"float64\")"
   ]
  },
  {
   "cell_type": "code",
   "execution_count": 11,
   "id": "f5ff4a3c",
   "metadata": {
    "execution": {
     "iopub.execute_input": "2023-03-18T09:17:06.698676Z",
     "iopub.status.busy": "2023-03-18T09:17:06.698323Z",
     "iopub.status.idle": "2023-03-18T09:17:06.726359Z",
     "shell.execute_reply": "2023-03-18T09:17:06.724847Z"
    },
    "papermill": {
     "duration": 0.069414,
     "end_time": "2023-03-18T09:17:06.728559",
     "exception": false,
     "start_time": "2023-03-18T09:17:06.659145",
     "status": "completed"
    },
    "tags": []
   },
   "outputs": [
    {
     "data": {
      "text/html": [
       "<div>\n",
       "<style scoped>\n",
       "    .dataframe tbody tr th:only-of-type {\n",
       "        vertical-align: middle;\n",
       "    }\n",
       "\n",
       "    .dataframe tbody tr th {\n",
       "        vertical-align: top;\n",
       "    }\n",
       "\n",
       "    .dataframe thead th {\n",
       "        text-align: right;\n",
       "    }\n",
       "</style>\n",
       "<table border=\"1\" class=\"dataframe\">\n",
       "  <thead>\n",
       "    <tr style=\"text-align: right;\">\n",
       "      <th></th>\n",
       "      <th>AtBat</th>\n",
       "      <th>Hits</th>\n",
       "      <th>HmRun</th>\n",
       "      <th>Runs</th>\n",
       "      <th>RBI</th>\n",
       "      <th>Walks</th>\n",
       "      <th>Years</th>\n",
       "      <th>CAtBat</th>\n",
       "      <th>CHits</th>\n",
       "      <th>CHmRun</th>\n",
       "      <th>CRuns</th>\n",
       "      <th>CRBI</th>\n",
       "      <th>CWalks</th>\n",
       "      <th>PutOuts</th>\n",
       "      <th>Assists</th>\n",
       "      <th>Errors</th>\n",
       "      <th>League_N</th>\n",
       "      <th>Division_W</th>\n",
       "      <th>NewLeague_N</th>\n",
       "    </tr>\n",
       "  </thead>\n",
       "  <tbody>\n",
       "    <tr>\n",
       "      <th>1</th>\n",
       "      <td>315.0</td>\n",
       "      <td>81.0</td>\n",
       "      <td>7.0</td>\n",
       "      <td>24.0</td>\n",
       "      <td>38.0</td>\n",
       "      <td>39.0</td>\n",
       "      <td>14.0</td>\n",
       "      <td>3449.0</td>\n",
       "      <td>835.0</td>\n",
       "      <td>69.0</td>\n",
       "      <td>321.0</td>\n",
       "      <td>414.0</td>\n",
       "      <td>375.0</td>\n",
       "      <td>632.0</td>\n",
       "      <td>43.0</td>\n",
       "      <td>10.0</td>\n",
       "      <td>1</td>\n",
       "      <td>1</td>\n",
       "      <td>1</td>\n",
       "    </tr>\n",
       "    <tr>\n",
       "      <th>2</th>\n",
       "      <td>479.0</td>\n",
       "      <td>130.0</td>\n",
       "      <td>18.0</td>\n",
       "      <td>66.0</td>\n",
       "      <td>72.0</td>\n",
       "      <td>76.0</td>\n",
       "      <td>3.0</td>\n",
       "      <td>1624.0</td>\n",
       "      <td>457.0</td>\n",
       "      <td>63.0</td>\n",
       "      <td>224.0</td>\n",
       "      <td>266.0</td>\n",
       "      <td>263.0</td>\n",
       "      <td>880.0</td>\n",
       "      <td>82.0</td>\n",
       "      <td>14.0</td>\n",
       "      <td>0</td>\n",
       "      <td>1</td>\n",
       "      <td>0</td>\n",
       "    </tr>\n",
       "    <tr>\n",
       "      <th>3</th>\n",
       "      <td>496.0</td>\n",
       "      <td>141.0</td>\n",
       "      <td>20.0</td>\n",
       "      <td>65.0</td>\n",
       "      <td>78.0</td>\n",
       "      <td>37.0</td>\n",
       "      <td>11.0</td>\n",
       "      <td>5628.0</td>\n",
       "      <td>1575.0</td>\n",
       "      <td>225.0</td>\n",
       "      <td>828.0</td>\n",
       "      <td>838.0</td>\n",
       "      <td>354.0</td>\n",
       "      <td>200.0</td>\n",
       "      <td>11.0</td>\n",
       "      <td>3.0</td>\n",
       "      <td>1</td>\n",
       "      <td>0</td>\n",
       "      <td>1</td>\n",
       "    </tr>\n",
       "    <tr>\n",
       "      <th>4</th>\n",
       "      <td>321.0</td>\n",
       "      <td>87.0</td>\n",
       "      <td>10.0</td>\n",
       "      <td>39.0</td>\n",
       "      <td>42.0</td>\n",
       "      <td>30.0</td>\n",
       "      <td>2.0</td>\n",
       "      <td>396.0</td>\n",
       "      <td>101.0</td>\n",
       "      <td>12.0</td>\n",
       "      <td>48.0</td>\n",
       "      <td>46.0</td>\n",
       "      <td>33.0</td>\n",
       "      <td>805.0</td>\n",
       "      <td>40.0</td>\n",
       "      <td>4.0</td>\n",
       "      <td>1</td>\n",
       "      <td>0</td>\n",
       "      <td>1</td>\n",
       "    </tr>\n",
       "    <tr>\n",
       "      <th>5</th>\n",
       "      <td>594.0</td>\n",
       "      <td>169.0</td>\n",
       "      <td>4.0</td>\n",
       "      <td>74.0</td>\n",
       "      <td>51.0</td>\n",
       "      <td>35.0</td>\n",
       "      <td>11.0</td>\n",
       "      <td>4408.0</td>\n",
       "      <td>1133.0</td>\n",
       "      <td>19.0</td>\n",
       "      <td>501.0</td>\n",
       "      <td>336.0</td>\n",
       "      <td>194.0</td>\n",
       "      <td>282.0</td>\n",
       "      <td>421.0</td>\n",
       "      <td>25.0</td>\n",
       "      <td>0</td>\n",
       "      <td>1</td>\n",
       "      <td>0</td>\n",
       "    </tr>\n",
       "  </tbody>\n",
       "</table>\n",
       "</div>"
      ],
      "text/plain": [
       "   AtBat   Hits  HmRun  Runs   RBI  Walks  Years  CAtBat   CHits  CHmRun  \\\n",
       "1  315.0   81.0    7.0  24.0  38.0   39.0   14.0  3449.0   835.0    69.0   \n",
       "2  479.0  130.0   18.0  66.0  72.0   76.0    3.0  1624.0   457.0    63.0   \n",
       "3  496.0  141.0   20.0  65.0  78.0   37.0   11.0  5628.0  1575.0   225.0   \n",
       "4  321.0   87.0   10.0  39.0  42.0   30.0    2.0   396.0   101.0    12.0   \n",
       "5  594.0  169.0    4.0  74.0  51.0   35.0   11.0  4408.0  1133.0    19.0   \n",
       "\n",
       "   CRuns   CRBI  CWalks  PutOuts  Assists  Errors  League_N  Division_W  \\\n",
       "1  321.0  414.0   375.0    632.0     43.0    10.0         1           1   \n",
       "2  224.0  266.0   263.0    880.0     82.0    14.0         0           1   \n",
       "3  828.0  838.0   354.0    200.0     11.0     3.0         1           0   \n",
       "4   48.0   46.0    33.0    805.0     40.0     4.0         1           0   \n",
       "5  501.0  336.0   194.0    282.0    421.0    25.0         0           1   \n",
       "\n",
       "   NewLeague_N  \n",
       "1            1  \n",
       "2            0  \n",
       "3            1  \n",
       "4            1  \n",
       "5            0  "
      ]
     },
     "execution_count": 11,
     "metadata": {},
     "output_type": "execute_result"
    }
   ],
   "source": [
    "x = pd.concat([new_hts,one_hot_encoded[[\"League_N\",\"Division_W\",\"NewLeague_N\"]]],axis=1)\n",
    "x.head()"
   ]
  },
  {
   "cell_type": "code",
   "execution_count": 12,
   "id": "fcc50031",
   "metadata": {
    "execution": {
     "iopub.execute_input": "2023-03-18T09:17:06.791845Z",
     "iopub.status.busy": "2023-03-18T09:17:06.791496Z",
     "iopub.status.idle": "2023-03-18T09:17:06.796696Z",
     "shell.execute_reply": "2023-03-18T09:17:06.795701Z"
    },
    "papermill": {
     "duration": 0.038937,
     "end_time": "2023-03-18T09:17:06.798592",
     "exception": false,
     "start_time": "2023-03-18T09:17:06.759655",
     "status": "completed"
    },
    "tags": []
   },
   "outputs": [],
   "source": [
    "y=hts.Salary"
   ]
  },
  {
   "cell_type": "code",
   "execution_count": 13,
   "id": "cf9dd1d4",
   "metadata": {
    "execution": {
     "iopub.execute_input": "2023-03-18T09:17:06.865629Z",
     "iopub.status.busy": "2023-03-18T09:17:06.864720Z",
     "iopub.status.idle": "2023-03-18T09:17:06.870976Z",
     "shell.execute_reply": "2023-03-18T09:17:06.869726Z"
    },
    "papermill": {
     "duration": 0.041732,
     "end_time": "2023-03-18T09:17:06.872915",
     "exception": false,
     "start_time": "2023-03-18T09:17:06.831183",
     "status": "completed"
    },
    "tags": []
   },
   "outputs": [
    {
     "data": {
      "text/plain": [
       "(263, 20)"
      ]
     },
     "execution_count": 13,
     "metadata": {},
     "output_type": "execute_result"
    }
   ],
   "source": [
    "hts.shape"
   ]
  },
  {
   "cell_type": "code",
   "execution_count": 14,
   "id": "78c54e3d",
   "metadata": {
    "execution": {
     "iopub.execute_input": "2023-03-18T09:17:06.938719Z",
     "iopub.status.busy": "2023-03-18T09:17:06.938341Z",
     "iopub.status.idle": "2023-03-18T09:17:06.945051Z",
     "shell.execute_reply": "2023-03-18T09:17:06.943996Z"
    },
    "papermill": {
     "duration": 0.042833,
     "end_time": "2023-03-18T09:17:06.947467",
     "exception": false,
     "start_time": "2023-03-18T09:17:06.904634",
     "status": "completed"
    },
    "tags": []
   },
   "outputs": [
    {
     "data": {
      "text/plain": [
       "(263, 19)"
      ]
     },
     "execution_count": 14,
     "metadata": {},
     "output_type": "execute_result"
    }
   ],
   "source": [
    "x.shape"
   ]
  },
  {
   "cell_type": "code",
   "execution_count": 15,
   "id": "ec7969bf",
   "metadata": {
    "execution": {
     "iopub.execute_input": "2023-03-18T09:17:07.011643Z",
     "iopub.status.busy": "2023-03-18T09:17:07.010701Z",
     "iopub.status.idle": "2023-03-18T09:17:07.017760Z",
     "shell.execute_reply": "2023-03-18T09:17:07.016718Z"
    },
    "papermill": {
     "duration": 0.041159,
     "end_time": "2023-03-18T09:17:07.019774",
     "exception": false,
     "start_time": "2023-03-18T09:17:06.978615",
     "status": "completed"
    },
    "tags": []
   },
   "outputs": [
    {
     "data": {
      "text/plain": [
       "(263,)"
      ]
     },
     "execution_count": 15,
     "metadata": {},
     "output_type": "execute_result"
    }
   ],
   "source": [
    "y.shape"
   ]
  },
  {
   "cell_type": "code",
   "execution_count": 16,
   "id": "cee1eac8",
   "metadata": {
    "execution": {
     "iopub.execute_input": "2023-03-18T09:17:07.086244Z",
     "iopub.status.busy": "2023-03-18T09:17:07.085803Z",
     "iopub.status.idle": "2023-03-18T09:17:07.093265Z",
     "shell.execute_reply": "2023-03-18T09:17:07.091817Z"
    },
    "papermill": {
     "duration": 0.042879,
     "end_time": "2023-03-18T09:17:07.095478",
     "exception": false,
     "start_time": "2023-03-18T09:17:07.052599",
     "status": "completed"
    },
    "tags": []
   },
   "outputs": [
    {
     "name": "stdout",
     "output_type": "stream",
     "text": [
      "(210, 19)\n",
      "(53, 19)\n",
      "(210,)\n",
      "(53,)\n"
     ]
    }
   ],
   "source": [
    "x_train = x.iloc[:210]\n",
    "x_test = x.iloc[210:]\n",
    "y_train = y[:210]\n",
    "y_test = y[210:]\n",
    "print(x_train.shape)\n",
    "print(x_test.shape)\n",
    "print(y_train.shape)\n",
    "print(y_test.shape)"
   ]
  },
  {
   "cell_type": "code",
   "execution_count": 17,
   "id": "985ef43b",
   "metadata": {
    "execution": {
     "iopub.execute_input": "2023-03-18T09:17:07.160554Z",
     "iopub.status.busy": "2023-03-18T09:17:07.160219Z",
     "iopub.status.idle": "2023-03-18T09:17:07.167368Z",
     "shell.execute_reply": "2023-03-18T09:17:07.165951Z"
    },
    "papermill": {
     "duration": 0.042015,
     "end_time": "2023-03-18T09:17:07.169422",
     "exception": false,
     "start_time": "2023-03-18T09:17:07.127407",
     "status": "completed"
    },
    "tags": []
   },
   "outputs": [],
   "source": [
    "k_nearest_neighbor = KNeighborsRegressor().fit(x_train,y_train)"
   ]
  },
  {
   "cell_type": "markdown",
   "id": "182d4031",
   "metadata": {
    "papermill": {
     "duration": 0.031741,
     "end_time": "2023-03-18T09:17:07.232658",
     "exception": false,
     "start_time": "2023-03-18T09:17:07.200917",
     "status": "completed"
    },
    "tags": []
   },
   "source": [
    "k_nearest_neightbor"
   ]
  },
  {
   "cell_type": "raw",
   "id": "b6e65759",
   "metadata": {
    "papermill": {
     "duration": 0.031401,
     "end_time": "2023-03-18T09:17:07.296006",
     "exception": false,
     "start_time": "2023-03-18T09:17:07.264605",
     "status": "completed"
    },
    "tags": []
   },
   "source": []
  },
  {
   "cell_type": "code",
   "execution_count": 18,
   "id": "0108d755",
   "metadata": {
    "execution": {
     "iopub.execute_input": "2023-03-18T09:17:07.362052Z",
     "iopub.status.busy": "2023-03-18T09:17:07.361642Z",
     "iopub.status.idle": "2023-03-18T09:17:07.368094Z",
     "shell.execute_reply": "2023-03-18T09:17:07.367233Z"
    },
    "papermill": {
     "duration": 0.042527,
     "end_time": "2023-03-18T09:17:07.370322",
     "exception": false,
     "start_time": "2023-03-18T09:17:07.327795",
     "status": "completed"
    },
    "tags": []
   },
   "outputs": [
    {
     "data": {
      "text/plain": [
       "5"
      ]
     },
     "execution_count": 18,
     "metadata": {},
     "output_type": "execute_result"
    }
   ],
   "source": [
    "k_nearest_neighbor.n_neighbors"
   ]
  },
  {
   "cell_type": "code",
   "execution_count": 19,
   "id": "fe33fa91",
   "metadata": {
    "execution": {
     "iopub.execute_input": "2023-03-18T09:17:07.435472Z",
     "iopub.status.busy": "2023-03-18T09:17:07.435114Z",
     "iopub.status.idle": "2023-03-18T09:17:07.441157Z",
     "shell.execute_reply": "2023-03-18T09:17:07.440098Z"
    },
    "papermill": {
     "duration": 0.040905,
     "end_time": "2023-03-18T09:17:07.443000",
     "exception": false,
     "start_time": "2023-03-18T09:17:07.402095",
     "status": "completed"
    },
    "tags": []
   },
   "outputs": [
    {
     "data": {
      "text/plain": [
       "'minkowski'"
      ]
     },
     "execution_count": 19,
     "metadata": {},
     "output_type": "execute_result"
    }
   ],
   "source": [
    "k_nearest_neighbor.metric"
   ]
  },
  {
   "cell_type": "code",
   "execution_count": 20,
   "id": "adbe8f3e",
   "metadata": {
    "execution": {
     "iopub.execute_input": "2023-03-18T09:17:07.507920Z",
     "iopub.status.busy": "2023-03-18T09:17:07.507544Z",
     "iopub.status.idle": "2023-03-18T09:17:07.520945Z",
     "shell.execute_reply": "2023-03-18T09:17:07.520059Z"
    },
    "papermill": {
     "duration": 0.048644,
     "end_time": "2023-03-18T09:17:07.523320",
     "exception": false,
     "start_time": "2023-03-18T09:17:07.474676",
     "status": "completed"
    },
    "tags": []
   },
   "outputs": [],
   "source": [
    "y_pred = k_nearest_neighbor.predict(x_train)"
   ]
  },
  {
   "cell_type": "code",
   "execution_count": 21,
   "id": "3252e296",
   "metadata": {
    "execution": {
     "iopub.execute_input": "2023-03-18T09:17:07.608583Z",
     "iopub.status.busy": "2023-03-18T09:17:07.608210Z",
     "iopub.status.idle": "2023-03-18T09:17:07.618246Z",
     "shell.execute_reply": "2023-03-18T09:17:07.617397Z"
    },
    "papermill": {
     "duration": 0.055438,
     "end_time": "2023-03-18T09:17:07.620710",
     "exception": false,
     "start_time": "2023-03-18T09:17:07.565272",
     "status": "completed"
    },
    "tags": []
   },
   "outputs": [
    {
     "data": {
      "text/plain": [
       "272.62826664397875"
      ]
     },
     "execution_count": 21,
     "metadata": {},
     "output_type": "execute_result"
    }
   ],
   "source": [
    "np.sqrt(mean_squared_error(y_train,y_pred))"
   ]
  },
  {
   "cell_type": "code",
   "execution_count": 22,
   "id": "bbbec53c",
   "metadata": {
    "execution": {
     "iopub.execute_input": "2023-03-18T09:17:07.691677Z",
     "iopub.status.busy": "2023-03-18T09:17:07.691334Z",
     "iopub.status.idle": "2023-03-18T09:17:07.698264Z",
     "shell.execute_reply": "2023-03-18T09:17:07.697351Z"
    },
    "papermill": {
     "duration": 0.043659,
     "end_time": "2023-03-18T09:17:07.700339",
     "exception": false,
     "start_time": "2023-03-18T09:17:07.656680",
     "status": "completed"
    },
    "tags": []
   },
   "outputs": [
    {
     "data": {
      "text/plain": [
       "0.6566334622730783"
      ]
     },
     "execution_count": 22,
     "metadata": {},
     "output_type": "execute_result"
    }
   ],
   "source": [
    "r2_score(y_train,y_pred)"
   ]
  },
  {
   "cell_type": "code",
   "execution_count": 23,
   "id": "2c9cce3f",
   "metadata": {
    "execution": {
     "iopub.execute_input": "2023-03-18T09:17:07.767280Z",
     "iopub.status.busy": "2023-03-18T09:17:07.766697Z",
     "iopub.status.idle": "2023-03-18T09:17:07.775506Z",
     "shell.execute_reply": "2023-03-18T09:17:07.774440Z"
    },
    "papermill": {
     "duration": 0.045929,
     "end_time": "2023-03-18T09:17:07.778161",
     "exception": false,
     "start_time": "2023-03-18T09:17:07.732232",
     "status": "completed"
    },
    "tags": []
   },
   "outputs": [],
   "source": [
    "y_pred=k_nearest_neighbor.predict(x_test)"
   ]
  },
  {
   "cell_type": "code",
   "execution_count": 24,
   "id": "660fcc1e",
   "metadata": {
    "execution": {
     "iopub.execute_input": "2023-03-18T09:17:07.844592Z",
     "iopub.status.busy": "2023-03-18T09:17:07.844130Z",
     "iopub.status.idle": "2023-03-18T09:17:07.852427Z",
     "shell.execute_reply": "2023-03-18T09:17:07.850979Z"
    },
    "papermill": {
     "duration": 0.044845,
     "end_time": "2023-03-18T09:17:07.855195",
     "exception": false,
     "start_time": "2023-03-18T09:17:07.810350",
     "status": "completed"
    },
    "tags": []
   },
   "outputs": [
    {
     "data": {
      "text/plain": [
       "284.2568747067342"
      ]
     },
     "execution_count": 24,
     "metadata": {},
     "output_type": "execute_result"
    }
   ],
   "source": [
    "np.sqrt(mean_squared_error(y_test, y_pred))"
   ]
  },
  {
   "cell_type": "code",
   "execution_count": 25,
   "id": "8474778e",
   "metadata": {
    "execution": {
     "iopub.execute_input": "2023-03-18T09:17:07.922734Z",
     "iopub.status.busy": "2023-03-18T09:17:07.921467Z",
     "iopub.status.idle": "2023-03-18T09:17:07.929923Z",
     "shell.execute_reply": "2023-03-18T09:17:07.928746Z"
    },
    "papermill": {
     "duration": 0.044012,
     "end_time": "2023-03-18T09:17:07.932031",
     "exception": false,
     "start_time": "2023-03-18T09:17:07.888019",
     "status": "completed"
    },
    "tags": []
   },
   "outputs": [
    {
     "data": {
      "text/plain": [
       "0.44677834961156204"
      ]
     },
     "execution_count": 25,
     "metadata": {},
     "output_type": "execute_result"
    }
   ],
   "source": [
    "r2_score(y_test,y_pred)"
   ]
  },
  {
   "cell_type": "code",
   "execution_count": 26,
   "id": "7f6d94ed",
   "metadata": {
    "execution": {
     "iopub.execute_input": "2023-03-18T09:17:07.997785Z",
     "iopub.status.busy": "2023-03-18T09:17:07.997430Z",
     "iopub.status.idle": "2023-03-18T09:17:08.082650Z",
     "shell.execute_reply": "2023-03-18T09:17:08.081543Z"
    },
    "papermill": {
     "duration": 0.121255,
     "end_time": "2023-03-18T09:17:08.085207",
     "exception": false,
     "start_time": "2023-03-18T09:17:07.963952",
     "status": "completed"
    },
    "tags": []
   },
   "outputs": [
    {
     "name": "stdout",
     "output_type": "stream",
     "text": [
      "RMSE value for k= 1 : 0.0\n",
      "RMSE value for k= 2 : 180.88345020122767\n",
      "RMSE value for k= 3 : 234.31341582447726\n",
      "RMSE value for k= 4 : 253.85066788405706\n",
      "RMSE value for k= 5 : 272.62826664397875\n",
      "RMSE value for k= 6 : 290.4048911727775\n",
      "RMSE value for k= 7 : 297.25110879862706\n",
      "RMSE value for k= 8 : 310.8280894916466\n",
      "RMSE value for k= 9 : 318.03658609122976\n",
      "RMSE value for k= 10 : 318.4999056344273\n",
      "RMSE value for k= 11 : 324.15431254360897\n",
      "RMSE value for k= 12 : 329.04827672314815\n",
      "RMSE value for k= 13 : 329.66310104255126\n",
      "RMSE value for k= 14 : 332.4164560588913\n",
      "RMSE value for k= 15 : 335.44623573055964\n"
     ]
    }
   ],
   "source": [
    "Root_Mean_square_Errors= []\n",
    "\n",
    "for i in range(15):\n",
    "    i+=1\n",
    "    knn=KNeighborsRegressor(n_neighbors=i).fit(x_train,y_train)\n",
    "    y_pred = knn.predict(x_train)\n",
    "    rmse=np.sqrt(mean_squared_error(y_train,y_pred))\n",
    "    Root_Mean_square_Errors.append(rmse)\n",
    "    print(\"RMSE value for k=\",i,\":\",rmse)"
   ]
  },
  {
   "cell_type": "markdown",
   "id": "ccb06d98",
   "metadata": {
    "papermill": {
     "duration": 0.041147,
     "end_time": "2023-03-18T09:17:08.169098",
     "exception": false,
     "start_time": "2023-03-18T09:17:08.127951",
     "status": "completed"
    },
    "tags": []
   },
   "source": []
  }
 ],
 "metadata": {
  "kernelspec": {
   "display_name": "Python 3",
   "language": "python",
   "name": "python3"
  },
  "language_info": {
   "codemirror_mode": {
    "name": "ipython",
    "version": 3
   },
   "file_extension": ".py",
   "mimetype": "text/x-python",
   "name": "python",
   "nbconvert_exporter": "python",
   "pygments_lexer": "ipython3",
   "version": "3.7.12"
  },
  "papermill": {
   "default_parameters": {},
   "duration": 101.609885,
   "end_time": "2023-03-18T09:17:09.029446",
   "environment_variables": {},
   "exception": null,
   "input_path": "__notebook__.ipynb",
   "output_path": "__notebook__.ipynb",
   "parameters": {},
   "start_time": "2023-03-18T09:15:27.419561",
   "version": "2.4.0"
  }
 },
 "nbformat": 4,
 "nbformat_minor": 5
}
